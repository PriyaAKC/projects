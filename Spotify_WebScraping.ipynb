{
 "cells": [
  {
   "cell_type": "code",
   "execution_count": null,
   "metadata": {},
   "outputs": [],
   "source": [
    "### Import the libraries\n",
    "\n",
    "# !pip install spotipy\n",
    "import spotipy\n",
    "import sys\n",
    "import json\n",
    "\n",
    "import numpy as np\n",
    "import pandas as pd\n",
    "\n",
    "from spotipy.oauth2 import SpotifyClientCredentials\n"
   ]
  },
  {
   "cell_type": "code",
   "execution_count": null,
   "metadata": {},
   "outputs": [],
   "source": [
    "# Initialize parameters\n",
    "\n",
    "cid=\"XXX\"\n",
    "csecret=\"XXX\"\n",
    "user_id = \"XXX\"\n",
    "plist_id = \"XXX\"\n"
   ]
  },
  {
   "cell_type": "code",
   "execution_count": null,
   "metadata": {},
   "outputs": [],
   "source": [
    "# Connect to Spotify to obtain the ids of of tracks in the playlist being scapred\n",
    "\n",
    "client_credentials_manager = SpotifyClientCredentials(client_id=cid,\n",
    "                                                      client_secret=csecret)\n",
    "\n",
    "spotify = spotipy.Spotify(client_credentials_manager=client_credentials_manager)\n",
    " \n",
    "#get the track list information for the songs in the playlist\n",
    "response = spotify.user_playlist(user = user_id,\n",
    "                                 playlist_id = plist_id,\n",
    "                                 fields=\"tracks,next\")\n",
    "tracks=response[\"tracks\"] \n",
    "\n",
    "# get the tracksids : 100 songs\n",
    "trackids=[i[\"track\"][\"uri\"].split(\":\")[2] for i in tracks[\"items\"] ]\n",
    " \n",
    "\n",
    "len(trackids)"
   ]
  },
  {
   "cell_type": "code",
   "execution_count": null,
   "metadata": {},
   "outputs": [],
   "source": [
    "# keep on looping to the next songs until end of the playlist\n",
    "while tracks['next']: \n",
    "    tracks=spotify.next(tracks)\n",
    "    trackids.extend([i[\"track\"][\"uri\"].split(\":\")[2] for i in tracks[\"items\"] ])\n",
    "\n",
    "len(trackids)"
   ]
  },
  {
   "cell_type": "code",
   "execution_count": null,
   "metadata": {},
   "outputs": [],
   "source": [
    "#get the features we would like to keep\n",
    "extract_features=np.array(list(spotify.audio_features(trackids[5])[0].keys()))\n",
    "extract_features"
   ]
  },
  {
   "cell_type": "code",
   "execution_count": null,
   "metadata": {},
   "outputs": [],
   "source": [
    "#get song titles & song features\n",
    "title=[]\n",
    "song_features=[]\n",
    "\n",
    "j=0\n",
    "for i in trackids:\n",
    "    j=j+1\n",
    "    \n",
    "    #title update\n",
    "    title.append(spotify.track(i)[\"name\"])\n",
    "    #song update:\n",
    "    song_features.append([spotify.audio_features(i)[0] [x] for x in extract_features])\n",
    "    \n",
    "    \n",
    "    if j%50==0:\n",
    "        print(j)"
   ]
  },
  {
   "cell_type": "code",
   "execution_count": null,
   "metadata": {},
   "outputs": [],
   "source": [
    "#get artist names & song feature\n",
    "artist1=[]\n",
    "artist2=[]\n",
    "\n",
    "\n",
    "j=0\n",
    "for i in trackids:\n",
    "    j=j+1\n",
    "    \n",
    "    \n",
    "    # artist update\n",
    "    artist1.append(spotify.track(i)[\"artists\"][0][\"name\"])\n",
    "    if len(spotify.track(i)[\"artists\"])==1:\n",
    "        artist2.append(np.nan)\n",
    "    else:\n",
    "        artist2.append(spotify.track(i)[\"artists\"][1][\"name\"])\n",
    "        if j%50==0:\n",
    "            print(j)"
   ]
  },
  {
   "cell_type": "code",
   "execution_count": null,
   "metadata": {},
   "outputs": [],
   "source": [
    "#convert the information to pandas dataframe\n",
    "Playlist=pd.DataFrame(song_features)\n",
    "Playlist.columns=extract_features\n",
    "Playlist=Playlist.assign(Title=title,Artist1=artist1,Artist2=artist2)\n",
    "Playlist"
   ]
  }
 ],
 "metadata": {
  "kernelspec": {
   "display_name": "Python 3",
   "language": "python",
   "name": "python3"
  },
  "language_info": {
   "codemirror_mode": {
    "name": "ipython",
    "version": 3
   },
   "file_extension": ".py",
   "mimetype": "text/x-python",
   "name": "python",
   "nbconvert_exporter": "python",
   "pygments_lexer": "ipython3",
   "version": "3.7.3"
  }
 },
 "nbformat": 4,
 "nbformat_minor": 2
}
